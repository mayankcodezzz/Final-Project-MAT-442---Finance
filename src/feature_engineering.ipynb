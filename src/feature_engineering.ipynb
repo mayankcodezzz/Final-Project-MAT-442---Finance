{
 "cells": [
  {
   "cell_type": "markdown",
   "metadata": {},
   "source": [
    "### **Importing modules**"
   ]
  },
  {
   "cell_type": "code",
   "execution_count": 3,
   "metadata": {},
   "outputs": [],
   "source": [
    "import pandas as pd # type: ignore\n",
    "import numpy as np # type: ignore\n",
    "from datetime import datetime\n",
    "import scipy.stats as stats # type: ignore\n",
    "import matplotlib.pyplot as plt # type: ignore\n",
    "import os # type: ignore"
   ]
  },
  {
   "cell_type": "markdown",
   "metadata": {},
   "source": [
    "### **Loading Preprocessed Dataset**"
   ]
  },
  {
   "cell_type": "code",
   "execution_count": 5,
   "metadata": {},
   "outputs": [],
   "source": [
    "df_cards = pd.read_csv('../data/cards_data.csv')\n",
    "df_users = pd.read_csv('../data/users_data.csv')"
   ]
  },
  {
   "cell_type": "markdown",
   "metadata": {},
   "source": [
    "### **Performing Feature Engineering**"
   ]
  },
  {
   "cell_type": "markdown",
   "metadata": {},
   "source": [
    "**1. Added a new column containing categorical variable - Retired, Not Retired**"
   ]
  },
  {
   "cell_type": "code",
   "execution_count": 7,
   "metadata": {},
   "outputs": [],
   "source": [
    "# Determine retirement status\n",
    "df_users['retirement_status'] = np.where(\n",
    "    df_users['current_age'] >= df_users['retirement_age'],\n",
    "    'Retired',\n",
    "    'Not Retired'\n",
    ")"
   ]
  },
  {
   "cell_type": "markdown",
   "metadata": {},
   "source": [
    "**2. Divided Age into four Groups and Created a new column age_group containing 4 categorical variables**"
   ]
  },
  {
   "cell_type": "code",
   "execution_count": 9,
   "metadata": {},
   "outputs": [],
   "source": [
    "# Categorize Age Groups\n",
    "def categorize_age(age):\n",
    "    if age <= 30:\n",
    "        return \"17-30\"\n",
    "    elif age <= 45:\n",
    "        return \"31-45\"\n",
    "    elif age <= 60:\n",
    "        return \"46-60\"\n",
    "    else:\n",
    "        return \"60+\"\n",
    "\n",
    "df_users['age_group'] = df_users['current_age'].apply(categorize_age)"
   ]
  },
  {
   "cell_type": "markdown",
   "metadata": {},
   "source": [
    "### **Although there is no such direct analysis possible this variable is used to detect for fruad detection likelihood still we will consider it for the analysis**\n",
    "**3. Flag if PIN Change is Due**"
   ]
  },
  {
   "cell_type": "code",
   "execution_count": 10,
   "metadata": {},
   "outputs": [],
   "source": [
    "# Flag if PIN Change is Due we check for whether the card's PIN has been changed in the last 2 years but data was last updated 5 years ago so we take -7 instead of -2.\n",
    "df_cards['PIN_Change_Due'] = df_cards['year_pin_last_changed'].apply(lambda x: 'Yes' if x < datetime.today().year - 7 else 'No')"
   ]
  },
  {
   "cell_type": "markdown",
   "metadata": {},
   "source": [
    "**4. Since total debt is a very perspective dependent variable suppose - Person A having Yearly Income $500k for him having an debt of $20k is not an big issue than for a Person B having Yearly Income $20k having an debt of $10k though it seems that Person A has More debt than Person B, if we take the Debt_to_income ratio we see the actuall significance for Person A - 0.04(4% of income) and for Person B - 0.5(50% of income)**"
   ]
  },
  {
   "cell_type": "code",
   "execution_count": 11,
   "metadata": {},
   "outputs": [],
   "source": [
    "# Calculate Debt-to-Income Ratio\n",
    "df_users['Debt_to_Income_Ratio'] = df_users['total_debt'] / df_users['yearly_income']"
   ]
  },
  {
   "cell_type": "markdown",
   "metadata": {},
   "source": [
    "### **Merging Both Tables**"
   ]
  },
  {
   "cell_type": "code",
   "execution_count": 12,
   "metadata": {},
   "outputs": [],
   "source": [
    "df_merged = pd.merge(df_users, df_cards, left_on=\"id\", right_on=\"client_id\", how=\"left\")"
   ]
  },
  {
   "cell_type": "markdown",
   "metadata": {},
   "source": [
    "### **Updating the csv files**"
   ]
  },
  {
   "cell_type": "code",
   "execution_count": 13,
   "metadata": {},
   "outputs": [],
   "source": [
    "data_dir = '../data'\n",
    "file_path_merged = os.path.join(data_dir, 'merged_data.csv')\n",
    "df_merged.to_csv(file_path_merged, index=False)"
   ]
  }
 ],
 "metadata": {
  "kernelspec": {
   "display_name": "Python 3",
   "language": "python",
   "name": "python3"
  },
  "language_info": {
   "codemirror_mode": {
    "name": "ipython",
    "version": 3
   },
   "file_extension": ".py",
   "mimetype": "text/x-python",
   "name": "python",
   "nbconvert_exporter": "python",
   "pygments_lexer": "ipython3",
   "version": "3.13.1"
  }
 },
 "nbformat": 4,
 "nbformat_minor": 2
}
