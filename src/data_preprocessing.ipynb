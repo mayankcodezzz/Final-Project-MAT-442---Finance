{
 "cells": [
  {
   "cell_type": "markdown",
   "metadata": {},
   "source": [
    "### **Importing modules**"
   ]
  },
  {
   "cell_type": "code",
   "execution_count": 6,
   "metadata": {},
   "outputs": [],
   "source": [
    "import pandas as pd # type: ignore\n",
    "import numpy as np # type: ignore\n",
    "from datetime import datetime\n",
    "import scipy.stats as stats # type: ignore\n",
    "import matplotlib.pyplot as plt # type: ignore\n",
    "import os # type: ignore"
   ]
  },
  {
   "cell_type": "markdown",
   "metadata": {},
   "source": [
    "### **Loading Dataset**"
   ]
  },
  {
   "cell_type": "code",
   "execution_count": 7,
   "metadata": {},
   "outputs": [],
   "source": [
    "df_cards = pd.read_csv('../data/cards_data.csv')\n",
    "df_users = pd.read_csv('../data/users_data.csv')"
   ]
  },
  {
   "cell_type": "markdown",
   "metadata": {},
   "source": [
    "### **Performing Data Preprocessing**"
   ]
  },
  {
   "cell_type": "markdown",
   "metadata": {},
   "source": [
    "**1. Droping card_on_dark_web column from cards dataset since all values are No**"
   ]
  },
  {
   "cell_type": "code",
   "execution_count": 8,
   "metadata": {},
   "outputs": [],
   "source": [
    "df_cards.drop(columns=['card_on_dark_web'], inplace=True)"
   ]
  },
  {
   "cell_type": "markdown",
   "metadata": {},
   "source": [
    "**2. Removing the $ sign from all Values of credit_limit, per_capita_income, yearly_income, total_debt to convert from string to float value**"
   ]
  },
  {
   "cell_type": "code",
   "execution_count": 9,
   "metadata": {},
   "outputs": [],
   "source": [
    "df_cards['credit_limit'] = df_cards['credit_limit'].str.replace(r'[\\$,]', '', regex=True).astype(float)\n",
    "df_users['per_capita_income'] = df_users['per_capita_income'].str.replace(r'[\\$,]', '', regex=True).astype(float)\n",
    "df_users['yearly_income'] = df_users['yearly_income'].str.replace(r'[\\$,]', '', regex=True).astype(float)\n",
    "df_users['total_debt'] = df_users['total_debt'].str.replace(r'[\\$,]', '', regex=True).astype(float)"
   ]
  },
  {
   "cell_type": "markdown",
   "metadata": {},
   "source": [
    "**3. Converting the accr_open_date column from string to datetime type**"
   ]
  },
  {
   "cell_type": "code",
   "execution_count": 10,
   "metadata": {},
   "outputs": [],
   "source": [
    "df_cards['acct_open_date'] = pd.to_datetime(df_cards['acct_open_date'], format=\"%m/%Y\", errors='coerce')"
   ]
  },
  {
   "cell_type": "markdown",
   "metadata": {},
   "source": [
    "### **Updating the csv files**"
   ]
  },
  {
   "cell_type": "code",
   "execution_count": 12,
   "metadata": {},
   "outputs": [],
   "source": [
    "data_dir = '../data'\n",
    "file_path_cards = os.path.join(data_dir, 'cards_data.csv')\n",
    "file_path_users = os.path.join(data_dir, 'users_data.csv')\n",
    "df_cards.to_csv(file_path_cards, index=False)\n",
    "df_users.to_csv(file_path_users, index=False)"
   ]
  }
 ],
 "metadata": {
  "kernelspec": {
   "display_name": "Python 3",
   "language": "python",
   "name": "python3"
  },
  "language_info": {
   "codemirror_mode": {
    "name": "ipython",
    "version": 3
   },
   "file_extension": ".py",
   "mimetype": "text/x-python",
   "name": "python",
   "nbconvert_exporter": "python",
   "pygments_lexer": "ipython3",
   "version": "3.13.1"
  }
 },
 "nbformat": 4,
 "nbformat_minor": 2
}
